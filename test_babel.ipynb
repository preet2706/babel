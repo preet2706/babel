{
 "cells": [
  {
   "cell_type": "code",
   "execution_count": 1,
   "id": "d252c36f",
   "metadata": {},
   "outputs": [],
   "source": [
    "import scanpy as sc\n",
    "import pandas as pd\n",
    "import numpy as np"
   ]
  },
  {
   "cell_type": "code",
   "execution_count": 2,
   "id": "3c7441ca",
   "metadata": {},
   "outputs": [
    {
     "name": "stderr",
     "output_type": "stream",
     "text": [
      "/usr/local/lib/python3.9/site-packages/anndata/compat/__init__.py:229: FutureWarning: Moving element from .uns['neighbors']['distances'] to .obsp['distances'].\n",
      "\n",
      "This is where adjacency matrices should go now.\n",
      "  warn(\n",
      "/usr/local/lib/python3.9/site-packages/anndata/compat/__init__.py:229: FutureWarning: Moving element from .uns['neighbors']['connectivities'] to .obsp['connectivities'].\n",
      "\n",
      "This is where adjacency matrices should go now.\n",
      "  warn(\n"
     ]
    }
   ],
   "source": [
    "data_pred = sc.read_h5ad('../babel/mymodel2/atac_rna_test_preds.h5ad')\n",
    "data_true = sc.read_h5ad('../babel/mymodel2/truth_rna.h5ad')\n",
    "meta = pd.read_csv('../scButterfly/data/lymphoma/annotated_cell_types_lymphoma.csv', index_col=\"Barcode\")\n",
    "#data_train = sc.read_h5ad('../babel/mymodel2/train_atac.h5ad')\n"
   ]
  },
  {
   "cell_type": "code",
   "execution_count": 9,
   "id": "5b37ce5f",
   "metadata": {},
   "outputs": [
    {
     "data": {
      "application/vnd.microsoft.datawrangler.viewer.v0+json": {
       "columns": [
        {
         "name": "index",
         "rawType": "object",
         "type": "string"
        },
        {
         "name": "Cell Types",
         "rawType": "object",
         "type": "string"
        }
       ],
       "conversionMethod": "pd.DataFrame",
       "ref": "94401205-c3e9-4dec-98e1-122b4a4b675c",
       "rows": [
        [
         "AAACAGCCAGAACCGA-1",
         "Tumor B"
        ],
        [
         "AAACCAACACAGAACG-1",
         "Tumor B"
        ],
        [
         "AAACCGCGTTAGGTGC-1",
         "Tumor B"
        ],
        [
         "AAACGGATCGGCCATA-1",
         "Tumor B"
        ],
        [
         "AAAGCAAGTTAGTACG-1",
         "Tumor B"
        ],
        [
         "AAAGCCCGTTGGTTCT-1",
         "Tumor B"
        ],
        [
         "AAAGCCGCATGCTTAG-1",
         "Tumor B"
        ],
        [
         "AAAGCGGGTGCTAGAC-1",
         "Tumor B"
        ],
        [
         "AAAGGAGCAGCACGTT-1",
         "Tumor B"
        ],
        [
         "AAAGGAGCAGGCAAGC-1",
         "Tumor B"
        ],
        [
         "AAATGGCCATCGTTCT-1",
         "Tumor B"
        ],
        [
         "AAATGGCCATTAAGCT-1",
         "Tumor B"
        ],
        [
         "AACAAAGGTGATGAGG-1",
         "Tumor B"
        ],
        [
         "AACATCATCACACAGT-1",
         "Tumor B"
        ],
        [
         "AACCTAATCAGCCAAT-1",
         "Tumor B"
        ],
        [
         "AACCTCCTCATGCGTG-1",
         "Tumor B"
        ],
        [
         "AACCTCCTCGGTCAAT-1",
         "Tumor B"
        ],
        [
         "AACCTCCTCTTTAAGG-1",
         "Tumor B"
        ],
        [
         "AACCTTAAGCCGCAGT-1",
         "Tumor B"
        ],
        [
         "AACTACTCAAACTAAG-1",
         "Tumor B"
        ],
        [
         "AACTACTCACTAGCGT-1",
         "Tumor B"
        ],
        [
         "AACTAGCTCACGCATG-1",
         "Tumor B"
        ],
        [
         "AACTGTTCAGTATGTT-1",
         "Tumor B"
        ],
        [
         "AAGACAAGTGCTCCGT-1",
         "Tumor B"
        ],
        [
         "AAGACAAGTTACTTGC-1",
         "Tumor B"
        ],
        [
         "AAGCAAGTCGTTATCT-1",
         "Tumor B"
        ],
        [
         "AAGCCACGTTAATGCG-1",
         "Tumor B"
        ],
        [
         "AAGCCACGTTACTAGG-1",
         "Tumor B"
        ],
        [
         "AAGCCTGTCCAGGAAA-1",
         "Tumor B"
        ],
        [
         "AAGCCTGTCGTTAACA-1",
         "Tumor B"
        ],
        [
         "AAGCCTGTCTGGCAAT-1",
         "Tumor B"
        ],
        [
         "AAGCGAATCGCAGGCT-1",
         "Tumor B"
        ],
        [
         "AAGCGCTGTCATAACG-1",
         "Tumor B"
        ],
        [
         "AAGCGCTGTCATAGAT-1",
         "Tumor B"
        ],
        [
         "AAGCGTTTCTGTGCCT-1",
         "Tumor B"
        ],
        [
         "AAGCTAGAGGGCTAAA-1",
         "Tumor B"
        ],
        [
         "AAGCTATGTTCCTCCT-1",
         "Tumor B"
        ],
        [
         "AAGCTATGTTTACTTG-1",
         "Tumor B"
        ],
        [
         "AAGGATCCAGGTTACC-1",
         "Tumor B"
        ],
        [
         "AAGGATGTCACCTGCT-1",
         "Tumor B"
        ],
        [
         "AAGGTCAAGCCGCTAA-1",
         "Tumor B"
        ],
        [
         "AAGGTGCAGGGTGGAT-1",
         "Tumor B"
        ],
        [
         "AAGTAGCCAGCTACGT-1",
         "Tumor B"
        ],
        [
         "AAGTGAAGTGCTTAGA-1",
         "Tumor B"
        ],
        [
         "AAGTGAAGTGGATTGC-1",
         "Tumor B"
        ],
        [
         "AAGTTACGTACGCGCA-1",
         "Tumor B"
        ],
        [
         "AAGTTACGTTAGCAGC-1",
         "Tumor B"
        ],
        [
         "AAGTTACGTTCACCCA-1",
         "Tumor B"
        ],
        [
         "AAGTTAGCAGCAAATA-1",
         "Tumor B"
        ],
        [
         "AAGTTAGCAGGCCATT-1",
         "Tumor B"
        ]
       ],
       "shape": {
        "columns": 1,
        "rows": 1364
       }
      },
      "text/html": [
       "<div>\n",
       "<style scoped>\n",
       "    .dataframe tbody tr th:only-of-type {\n",
       "        vertical-align: middle;\n",
       "    }\n",
       "\n",
       "    .dataframe tbody tr th {\n",
       "        vertical-align: top;\n",
       "    }\n",
       "\n",
       "    .dataframe thead th {\n",
       "        text-align: right;\n",
       "    }\n",
       "</style>\n",
       "<table border=\"1\" class=\"dataframe\">\n",
       "  <thead>\n",
       "    <tr style=\"text-align: right;\">\n",
       "      <th></th>\n",
       "      <th>Cell Types</th>\n",
       "    </tr>\n",
       "    <tr>\n",
       "      <th>index</th>\n",
       "      <th></th>\n",
       "    </tr>\n",
       "  </thead>\n",
       "  <tbody>\n",
       "    <tr>\n",
       "      <th>AAACAGCCAGAACCGA-1</th>\n",
       "      <td>Tumor B</td>\n",
       "    </tr>\n",
       "    <tr>\n",
       "      <th>AAACCAACACAGAACG-1</th>\n",
       "      <td>Tumor B</td>\n",
       "    </tr>\n",
       "    <tr>\n",
       "      <th>AAACCGCGTTAGGTGC-1</th>\n",
       "      <td>Tumor B</td>\n",
       "    </tr>\n",
       "    <tr>\n",
       "      <th>AAACGGATCGGCCATA-1</th>\n",
       "      <td>Tumor B</td>\n",
       "    </tr>\n",
       "    <tr>\n",
       "      <th>AAAGCAAGTTAGTACG-1</th>\n",
       "      <td>Tumor B</td>\n",
       "    </tr>\n",
       "    <tr>\n",
       "      <th>...</th>\n",
       "      <td>...</td>\n",
       "    </tr>\n",
       "    <tr>\n",
       "      <th>TTTGACTTCATGGCTG-1</th>\n",
       "      <td>Tumor B</td>\n",
       "    </tr>\n",
       "    <tr>\n",
       "      <th>TTTGACTTCGCTAGAT-1</th>\n",
       "      <td>Tumor B</td>\n",
       "    </tr>\n",
       "    <tr>\n",
       "      <th>TTTGCGGAGGCGTAAA-1</th>\n",
       "      <td>Tumor B</td>\n",
       "    </tr>\n",
       "    <tr>\n",
       "      <th>TTTGGTAAGCCTAATA-1</th>\n",
       "      <td>Tumor B</td>\n",
       "    </tr>\n",
       "    <tr>\n",
       "      <th>TTTGGTGCACCTGCCT-1</th>\n",
       "      <td>Tumor B</td>\n",
       "    </tr>\n",
       "  </tbody>\n",
       "</table>\n",
       "<p>1364 rows × 1 columns</p>\n",
       "</div>"
      ],
      "text/plain": [
       "                   Cell Types\n",
       "index                        \n",
       "AAACAGCCAGAACCGA-1    Tumor B\n",
       "AAACCAACACAGAACG-1    Tumor B\n",
       "AAACCGCGTTAGGTGC-1    Tumor B\n",
       "AAACGGATCGGCCATA-1    Tumor B\n",
       "AAAGCAAGTTAGTACG-1    Tumor B\n",
       "...                       ...\n",
       "TTTGACTTCATGGCTG-1    Tumor B\n",
       "TTTGACTTCGCTAGAT-1    Tumor B\n",
       "TTTGCGGAGGCGTAAA-1    Tumor B\n",
       "TTTGGTAAGCCTAATA-1    Tumor B\n",
       "TTTGGTGCACCTGCCT-1    Tumor B\n",
       "\n",
       "[1364 rows x 1 columns]"
      ]
     },
     "execution_count": 9,
     "metadata": {},
     "output_type": "execute_result"
    }
   ],
   "source": [
    "meta.reindex(data_true.obs_names)"
   ]
  },
  {
   "cell_type": "code",
   "execution_count": null,
   "id": "17e24826",
   "metadata": {},
   "outputs": [
    {
     "data": {
      "text/plain": [
       "AnnData object with n_obs × n_vars = 1364 × 34861\n",
       "    obs: 'source_file', 'n_counts', 'log1p_counts', 'n_genes', 'size_factors'\n",
       "    var: 'gene_ids', 'feature_types', 'genome', 'chrom', 'n_counts', 'log1p_counts', 'n_cells'"
      ]
     },
     "execution_count": 21,
     "metadata": {},
     "output_type": "execute_result"
    }
   ],
   "source": [
    "data_train.obs['cell_type'] = meta.reindex(adata_test.obs_names)['cell_type']"
   ]
  },
  {
   "cell_type": "code",
   "execution_count": null,
   "id": "2478e44b",
   "metadata": {},
   "outputs": [
    {
     "name": "stdout",
     "output_type": "stream",
     "text": [
      "a is None\n"
     ]
    }
   ],
   "source": [
    "a = None\n",
    "\n",
    "if a is not None:\n",
    "    print('a is not None')\n",
    "else:\n",
    "    print('a is None')"
   ]
  },
  {
   "cell_type": "code",
   "execution_count": null,
   "id": "5ecac736",
   "metadata": {},
   "outputs": [],
   "source": []
  }
 ],
 "metadata": {
  "kernelspec": {
   "display_name": "Python 3 (ipykernel)",
   "language": "python",
   "name": "python3"
  },
  "language_info": {
   "codemirror_mode": {
    "name": "ipython",
    "version": 3
   },
   "file_extension": ".py",
   "mimetype": "text/x-python",
   "name": "python",
   "nbconvert_exporter": "python",
   "pygments_lexer": "ipython3",
   "version": "3.9.22"
  }
 },
 "nbformat": 4,
 "nbformat_minor": 5
}
